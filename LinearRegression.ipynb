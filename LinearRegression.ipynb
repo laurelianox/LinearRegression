{
 "cells": [
  {
   "cell_type": "markdown",
   "metadata": {
    "id": "diW3d7nt6_u8"
   },
   "source": [
    "# Regressão Linear\n",
    "#### <span style=\"color:green\"> É utilizada para prever o valor de uma variável com base no valor de outra. </span>\n",
    "\n",
    "Tem como objetivo tratar de um valor que não se consegue estimar inicialmente.\n",
    "\n",
    "Exemplo: tempo de experiência > valor do sálario.\n",
    "\n",
    "**class sklearn.linear_model.LinearRegression(*, fit_intercept=True, normalize='deprecated', copy_X=True, n_jobs=None, positive=False)**\n",
    "\n",
    "### PARAMETROS LinearRegression(parametros)\n",
    "* **fit_intercept**, default=True:\n",
    "Se deve calcular a interceptação para este modelo. Se definido como False, nenhuma interceptação será usada nos cálculos (ou seja, espera-se que os dados sejam centralizados).\n",
    "\n",
    "* **copy_X**, default=True\n",
    "Se True, X será copiado; caso contrário, ele pode ser substituído.\n",
    "\n",
    "* **positive**, default=False\n",
    "Quando definido como True, força os coeficientes a serem positivos. Esta opção é suportada apenas para matrizes densas.\n",
    "\n",
    "### ATRIBUTOS LinearRegression.atributos\n",
    "* **coef_**: array of shape (n_features, ) or (n_targets, n_features)\n",
    "Coeficientes estimados para o problema de regressão linear. Se vários alvos forem passados ​​durante o ajuste (y 2D), este será um array 2D de forma (n_targets, n_features), enquanto se apenas um alvo for passado, este será um array 1D de comprimento n_features.\n",
    "\n",
    "* **rank_int**\n",
    "Classificação da matriz X. Disponível apenas quando X é denso.\n",
    "\n",
    "* **singular_**: array of shape (min(X, y),)\n",
    "Valores singulares de X. Disponível apenas quando X é denso.\n",
    "\n",
    "* **intercept_**: float or array of shape (n_targets,)\n",
    "Termo independente no modelo linear. Defina como 0,0 se fit_intercept = False\n",
    "\n",
    "* **n_features_in_int**\n",
    "Número de recursos vistos durante o ajuste.\n",
    "\n",
    "* **feature_names_in_**: ndarray of shape (n_features_in_,)\n",
    "Nomes de recursos vistos durante o ajuste. Definido apenas quando X tem nomes de recursos que são todos strings.\n",
    "\n",
    "### METODOS LinearRegression\n",
    "1. **.fit(X, y[, sample_weight])**: Ajuste o modelo linear.\n",
    "\n",
    "*X* - Dados de treinamento. || *y* -Valores de destino. Será lançado para o dtype de X, se necessário.\n",
    "|| *sample_weight* - Pesos individuais para cada amostra.\n",
    "\n",
    "2. **.get_params(deep = True)**: Obtenha parâmetros para este estimador.\n",
    "\n",
    "default=True\n",
    "Se True, retornará os parâmetros para este estimador e os subobjetos contidos que são estimadores.\n",
    "\n",
    "3. **.predict(X)**: Preveja usando o modelo linear.\n",
    "\n",
    "X - Amostras.\n",
    "\n",
    "4. **.score(X, y[, sample_weight])**: Retorna o coeficiente de determinação da previsão.\n",
    "\n",
    "X -Amostras de teste. ||\n",
    "y - Valores verdadeiros para X. ||\n",
    "sample_weight, default=None - Pesos de amostra.\n",
    "\n",
    "5. **.set_params(**params)**: Defina os parâmetros deste estimador.\n",
    " paramsdict - Estimator parameters.\n",
    "\n",
    "fonte  : https://scikit-learn.org/stable/modules/generated/sklearn.linear_model.LinearRegression.html"
   ]
  },
  {
   "cell_type": "markdown",
   "metadata": {},
   "source": [
    "# Quais são as bibliotecas necessárias ?\n",
    "Se for necessário instalar um biblioteca o comando é: !pip install [nome biblioteca]"
   ]
  },
  {
   "cell_type": "code",
   "execution_count": null,
   "metadata": {
    "id": "xHuwczwO6RoT"
   },
   "outputs": [],
   "source": [
    "import pandas as pd # Trabalhar com tabelas e importação dos arquivos utilizados\n",
    "import plotly.express as px # Biblioteca para criar gráficos dinamicos\n",
    "import seaborn as sns # Biblioteca a para gráficos\n",
    "import numpy as np # Funções matemáticas de alto nivel"
   ]
  },
  {
   "cell_type": "markdown",
   "metadata": {
    "id": "bM6LkG7z82ZY"
   },
   "source": [
    "# Importação da base\n",
    "Neste caso, a base está na mesma pasta que o arquivo .ipynb.\n",
    "\n",
    "Caso estivesse em diretório diferente, teríamos que colocar o caminho completo.\n",
    "\n",
    "Exemplo: C:\\\\\\Users\\\\\\..\\\\\\custo_diaria.csv\n",
    "\n",
    "Não se esqueça de indicar o separador (\"sep\") e o encoding (Caso necessário)"
   ]
  },
  {
   "cell_type": "code",
   "execution_count": null,
   "metadata": {
    "id": "sEZAS9Ex89IY"
   },
   "outputs": [],
   "source": [
    "custo_diaria = pd.read_csv('custo_diaria.csv', sep= ';')"
   ]
  },
  {
   "cell_type": "markdown",
   "metadata": {},
   "source": [
    "## Visualização do df (dataframe) e suas estatisticas\n",
    "Aqui eu coloquei algumas propriedades do Pandas para conhecer mais sobre seu df."
   ]
  },
  {
   "cell_type": "code",
   "execution_count": null,
   "metadata": {
    "colab": {
     "base_uri": "https://localhost:8080/"
    },
    "id": "Fp5yjTRP9u_N",
    "outputId": "63b030b9-5b91-4d0c-98e0-f1062851febe"
   },
   "outputs": [],
   "source": [
    "# Visualizando arquivos da base de dados; Também pode utilizar .head\n",
    "custo_diaria.head()"
   ]
  },
  {
   "cell_type": "code",
   "execution_count": null,
   "metadata": {
    "colab": {
     "base_uri": "https://localhost:8080/",
     "height": 300
    },
    "id": "lryFZ8gU-o1T",
    "outputId": "d6dc9bc5-3c15-4d24-dff8-734d7333b225"
   },
   "outputs": [],
   "source": [
    "# Algumas estatisticas de base de dados\n",
    "custo_diaria.describe()"
   ]
  },
  {
   "cell_type": "code",
   "execution_count": null,
   "metadata": {},
   "outputs": [],
   "source": [
    "# Mostra a forma do df (quantidade de linhas e colunas)\n",
    "custo_diaria.shape"
   ]
  },
  {
   "cell_type": "code",
   "execution_count": null,
   "metadata": {},
   "outputs": [],
   "source": [
    "# Indexação\n",
    "custo_diaria.index"
   ]
  },
  {
   "cell_type": "code",
   "execution_count": null,
   "metadata": {},
   "outputs": [],
   "source": [
    "# Informa o nome das colunas e o tipo\n",
    "custo_diaria.columns"
   ]
  },
  {
   "cell_type": "code",
   "execution_count": null,
   "metadata": {},
   "outputs": [],
   "source": [
    "# Retorna o tipo de dados de cada coluna\n",
    "custo_diaria.dtypes"
   ]
  },
  {
   "cell_type": "code",
   "execution_count": null,
   "metadata": {},
   "outputs": [],
   "source": [
    "# Tabela de informações sobre o df. Por aqui já conseguimos saber se está faltando dados\n",
    "custo_diaria.info()"
   ]
  },
  {
   "cell_type": "code",
   "execution_count": null,
   "metadata": {},
   "outputs": [],
   "source": [
    "# Retorna o numero de elementos no objeto\n",
    "custo_diaria.size"
   ]
  },
  {
   "cell_type": "code",
   "execution_count": null,
   "metadata": {},
   "outputs": [],
   "source": [
    "# verifica se o df está vazio\n",
    "custo_diaria.empty"
   ]
  },
  {
   "cell_type": "markdown",
   "metadata": {
    "id": "4ZgpRhvJ-1Ek"
   },
   "source": [
    "# Criando as variaveis que serão utilizadas no modelo"
   ]
  },
  {
   "cell_type": "code",
   "execution_count": null,
   "metadata": {
    "colab": {
     "base_uri": "https://localhost:8080/"
    },
    "id": "8mrvt-gs-zxg",
    "outputId": "9434505b-e9e1-4cbd-c70e-ae8f422c98ac"
   },
   "outputs": [],
   "source": [
    "# Criando a variavel independente\n",
    "\"\"\"\n",
    "Buscamos todos os registros da primeira coluna e convertermos no formato de array.\n",
    "O comando iloc permite selecionar um conjunto de registros. Os dois pontos \":\" significa que estamos selecionando todos os \n",
    "registros e zero \"0\" a primeira coluna.\n",
    "\"\"\"\n",
    "x_custo_diaria = custo_diaria.iloc[:,0].values \n",
    "\n",
    "\"\"\"\n",
    ".values\n",
    "Retorna apenas os valores(arrays) do df e não o df.\n",
    "'Converte' para um NumPy\n",
    "\"\"\"\n",
    "x_custo_diaria"
   ]
  },
  {
   "cell_type": "code",
   "execution_count": null,
   "metadata": {
    "colab": {
     "base_uri": "https://localhost:8080/"
    },
    "id": "YueQ3m56_2CS",
    "outputId": "bd698376-0805-42d6-fe3b-3561b4458705"
   },
   "outputs": [],
   "source": [
    "# Criando variável dependente (o que queremos predizer)\n",
    "y_custo_diaria = custo_diaria.iloc[:,1].values\n",
    "y_custo_diaria"
   ]
  },
  {
   "cell_type": "markdown",
   "metadata": {
    "id": "ykOvQESwA8__"
   },
   "source": [
    "# Correlação de Pearson"
   ]
  },
  {
   "cell_type": "markdown",
   "metadata": {
    "id": "ilhwGIaXBAu9"
   },
   "source": [
    "O Coeficiente de Correlação de Pearson é uma técnica para medir se duas variáveis estão relacionadas de maneira linear. Esta técnica também pode ser chamada de r de Pearson, Correlação Produto-Momento de Pearson ou mais coloquialmente de correlação de Pearson. (fonte: https://psicometriaonline.com.br/o-que-e-correlacao-de-pearson/)\n",
    "\n",
    "Correlação positiva: quando duas variaveis que possuem correlação crescem os decrescem juntas, ou seja, que possuem uma relação direta;\n",
    "\n",
    "Correlação negativa: quando duas variaveis que possuem correlação mas quando uma variavel cresce a outra decresce, ou vice-versa;\n",
    "\n",
    "Não ter correlação: quando o crescimento ou decrescimento de uma variavel não tem efeito sobre outra variável.\n"
   ]
  },
  {
   "attachments": {
    "pearson.png": {
     "image/png": "[encoded data removed]"
    }
   },
   "cell_type": "markdown",
   "metadata": {},
   "source": [
    "### numpy.corrcoef(x, y=None, rowvar=True, bias=<no value>, ddof=<no value>, *, dtype=None)**\n",
    "Retorna os coeficientes de correlação produto-momento de Pearson.\n",
    "![pearson.png](attachment:pearson.png)"
   ]
  },
  {
   "cell_type": "code",
   "execution_count": null,
   "metadata": {
    "colab": {
     "base_uri": "https://localhost:8080/"
    },
    "id": "OriFWaWHAieJ",
    "outputId": "6883f0a3-134e-4aec-a6d6-7c061900d47d"
   },
   "outputs": [],
   "source": [
    "# Cria e retorna a Correlação de Person em formato de matriz\n",
    "np.corrcoef(x_custo_diaria, y_custo_diaria)"
   ]
  },
  {
   "cell_type": "markdown",
   "metadata": {},
   "source": [
    "### DataFrame.corr(method='pearson', min_periods=1, numeric_only=_NoDefault.no_default)\n",
    "\n",
    "Calcula a correlação de colunas em pares, excluindo valores NA/nulos.\n",
    "\n",
    "**Parameters**\n",
    "**method**{‘pearson’, ‘kendall’, ‘spearman’} or callable\n",
    "\n",
    "Method of correlation:\n",
    "\n",
    "pearson : standard correlation coefficient\n",
    "\n",
    "kendall : Kendall Tau correlation coefficient\n",
    "\n",
    "spearman : Spearman rank correlation\n",
    "\n",
    "callable: callable com entrada de dois ndarrays 1d e retornando um float. Observe que a matriz retornada de corr terá 1 ao longo das diagonais e será simétrica, independentemente do comportamento do callable.\n",
    "\n",
    "**min_periodsint**, optional\n",
    "Número mínimo de observações necessárias por par de colunas para obter um resultado válido. Atualmente disponível apenas para correlação de Pearson e Spearman.\n",
    "\n",
    "**numeric_onlybool**, default True\n",
    "Inclua apenas dados float, int ou booleanos.\n"
   ]
  },
  {
   "cell_type": "code",
   "execution_count": null,
   "metadata": {
    "colab": {
     "base_uri": "https://localhost:8080/",
     "height": 287
    },
    "id": "RvdCR0Y5BnBD",
    "outputId": "ae029519-c405-4eb4-9ce9-9a6c220f6c1d"
   },
   "outputs": [],
   "source": [
    "correlation = custo_diaria.corr()"
   ]
  },
  {
   "cell_type": "markdown",
   "metadata": {},
   "source": [
    "### Plot da matriz de correlação\n",
    "O mapa de calor é definido como uma representação gráfica dos dados usando cores para visualizar o valor da matriz.\n",
    "\n",
    "**Sintaxe: seaborn.heatmap** ( data , * , vmin = None , vmax = None , cmap = None , center = None , annot_kws = None , linewidths = 0 , linecolor = 'white' , cbar = True , ** kwargs )\n",
    "\n",
    "Parâmetros importantes:\n",
    "\n",
    "**dados:** conjunto de dados 2D que pode ser coagido em um ndarray.\n",
    "\n",
    "**vmin , vmax:** Valores para ancorar o mapa de cores, caso contrário, eles são inferidos dos dados e de outros argumentos de palavra-chave.\n",
    "\n",
    "**cmap:** O mapeamento de valores de dados para espaço de cores.\n",
    "\n",
    "**center:** O valor no qual centralizar o mapa de cores ao plotar dados divergentes.\n",
    "\n",
    "**annot:** se True, escreva o valor dos dados em cada célula.\n",
    "\n",
    "**fmt:** código de formatação de string a ser usado ao adicionar anotações.\n",
    "\n",
    "**linewidths:** Largura das linhas que irão dividir cada célula.\n",
    "\n",
    "**linecolor:** cor das linhas que irão dividir cada célula.\n",
    "\n",
    "**cbar:** se deve desenhar uma barra de cores.\n",
    "\n",
    "Todos os parâmetros, **exceto dados**, são opcionais\n",
    "\n",
    "*fonte:* https://acervolima.com/seaborn-heatmap-um-guia-completo/\n"
   ]
  },
  {
   "cell_type": "code",
   "execution_count": null,
   "metadata": {},
   "outputs": [],
   "source": [
    "# plot da matriz de correlação\n",
    "plot = sns.heatmap(correlation, annot = True, linewidths=.3)\n",
    "plot"
   ]
  },
  {
   "cell_type": "markdown",
   "metadata": {
    "id": "2Fywuh8ECid_"
   },
   "source": [
    "Perceba que temos uma correlação forte positiva. Pois a medida que a quantidade de pessoas aumenta o preço da diaria também aumenta.\n",
    "\n",
    "Além disso, podemos dizer que em 98% do valor cobrado pelas diarias pode ser explicado pela quantidade de pessoas alugando o imóvel."
   ]
  },
  {
   "cell_type": "markdown",
   "metadata": {
    "id": "ptjJSFkiDJ1Q"
   },
   "source": [
    "# Tratando os dados para o modelo"
   ]
  },
  {
   "cell_type": "markdown",
   "metadata": {
    "id": "mFLwzFLSDRas"
   },
   "source": [
    "Nesse passo vamos realizar transformações nos dados. Essa transformação deve ser feita para que os dados possam ter o formato que o algoritmo solicitada como entrada."
   ]
  },
  {
   "cell_type": "code",
   "execution_count": null,
   "metadata": {
    "colab": {
     "base_uri": "https://localhost:8080/"
    },
    "id": "EBONN_-MDfiH",
    "outputId": "52fe9f8e-31ab-4557-9f20-ecdf704924e6"
   },
   "outputs": [],
   "source": [
    "# Visualizar o formato da variável\n",
    "x_custo_diaria.shape"
   ]
  },
  {
   "cell_type": "code",
   "execution_count": null,
   "metadata": {
    "colab": {
     "base_uri": "https://localhost:8080/"
    },
    "id": "BDvxpHMpDsGI",
    "outputId": "ed36d2c1-b87b-4170-e849-5979c8d1f836"
   },
   "outputs": [],
   "source": [
    "# Visualizando variável\n",
    "x_custo_diaria #O resultado mostra que temos uma array com apenas uma coluna/dimensão. No entanto, precisamos ter uma matriz com 2 colunas."
   ]
  },
  {
   "cell_type": "markdown",
   "metadata": {},
   "source": [
    "### numpy.reshape\n",
    "numpy.reshape(a, newshape, order='C')\n",
    "\n",
    "**Dá uma nova forma a um array sem alterar seus dados.**\n",
    "\n",
    "a - Matriz a ser reformulada.\n",
    "newshape - A nova forma deve ser compatível com a forma original. \n",
    "order -Leia os elementos de a usando essa ordem de índice e coloque os elementos na matriz remodelada usando essa ordem de índice."
   ]
  },
  {
   "cell_type": "code",
   "execution_count": null,
   "metadata": {
    "colab": {
     "base_uri": "https://localhost:8080/"
    },
    "id": "4aeicBG5EAW8",
    "outputId": "cd115653-01c7-4d01-8fc4-3041e3099fe5"
   },
   "outputs": [],
   "source": [
    "x_custo_diaria = x_custo_diaria.reshape(-1,1)\n",
    "x_custo_diaria"
   ]
  },
  {
   "cell_type": "code",
   "execution_count": null,
   "metadata": {
    "colab": {
     "base_uri": "https://localhost:8080/"
    },
    "id": "M0qmrfL4EQPY",
    "outputId": "4452c981-6cb9-427b-e150-bca4e02b41bc"
   },
   "outputs": [],
   "source": [
    "# Agora nós temos uma matriz com duas colunas\n",
    "x_custo_diaria.shape"
   ]
  },
  {
   "cell_type": "markdown",
   "metadata": {
    "id": "ynlyKkIUEv2q"
   },
   "source": [
    "# Aplicando os dados ao algoritmo de machine de regressão"
   ]
  },
  {
   "cell_type": "code",
   "execution_count": null,
   "metadata": {
    "id": "2iuGSNKBFDac"
   },
   "outputs": [],
   "source": [
    "from sklearn.linear_model import LinearRegression\n",
    "# Cria um objeto do tipo regressão linear\n",
    "previsao_custo_diaria = LinearRegression()"
   ]
  },
  {
   "cell_type": "code",
   "execution_count": null,
   "metadata": {
    "colab": {
     "base_uri": "https://localhost:8080/"
    },
    "id": "AmTNro_XFdv0",
    "outputId": "a497bd80-dffc-453a-810d-9d4e8d6a4ac1"
   },
   "outputs": [],
   "source": [
    "type(previsao_custo_diaria)"
   ]
  },
  {
   "cell_type": "markdown",
   "metadata": {
    "id": "s-fgmDo8FlBj"
   },
   "source": [
    "# Realizando o Treinamento do Modelo\n",
    "\n",
    "#### Relembrando\n",
    "\n",
    "**.fit**(X, y[, sample_weight]): Ajuste o modelo linear.\n",
    "* X - Dados de treinamento.\n",
    "* y -Valores de destino. Será lançado para o dtype de X, se necessário.\n",
    "\n",
    "**.intercept_:** :Termo independente no modelo linear.\n",
    "\n",
    "**.coef_:** :\n",
    "Coeficientes estimados para o problema de regressão linear.\n",
    "\n",
    "**.predict(X)**: Preveja usando o modelo linear."
   ]
  },
  {
   "cell_type": "code",
   "execution_count": null,
   "metadata": {
    "colab": {
     "base_uri": "https://localhost:8080/"
    },
    "id": "nY61sU3rFxWf",
    "outputId": "86c56f49-4cf2-4196-dbe7-048eb7616ed9"
   },
   "outputs": [],
   "source": [
    "previsao_custo_diaria.fit(x_custo_diaria, y_custo_diaria)"
   ]
  },
  {
   "cell_type": "code",
   "execution_count": null,
   "metadata": {
    "colab": {
     "base_uri": "https://localhost:8080/"
    },
    "id": "_Fac-egmF8n1",
    "outputId": "f6dd221c-7f90-48b7-c8ad-48e79150e084"
   },
   "outputs": [],
   "source": [
    "# Verificando a interceptação\n",
    "previsao_custo_diaria.intercept_"
   ]
  },
  {
   "cell_type": "code",
   "execution_count": null,
   "metadata": {
    "colab": {
     "base_uri": "https://localhost:8080/"
    },
    "id": "066CofvFGOjN",
    "outputId": "54788f49-d1ec-4ece-9d57-db7322355001"
   },
   "outputs": [],
   "source": [
    "# Verificando o coeficiente angular da reta\n",
    "previsao_custo_diaria.coef_"
   ]
  },
  {
   "cell_type": "code",
   "execution_count": null,
   "metadata": {
    "id": "rI9hxBU-GnAM"
   },
   "outputs": [],
   "source": [
    "previsao_preco = previsao_custo_diaria.predict(x_custo_diaria) #baseado nos valores de nº de pessoas, vamos estimar/prever o custo do imóvel alugado."
   ]
  },
  {
   "cell_type": "code",
   "execution_count": null,
   "metadata": {
    "colab": {
     "base_uri": "https://localhost:8080/"
    },
    "id": "rkrlDsMTHC-0",
    "outputId": "d040c671-c7b8-4af3-ee3f-ad1d74526dcc"
   },
   "outputs": [],
   "source": [
    "#Visualiza das previsões para cada numero de pessoas.\n",
    "previsao_preco"
   ]
  },
  {
   "cell_type": "markdown",
   "metadata": {
    "id": "-wfSo0kZHQsG"
   },
   "source": [
    "# Visualizando no gráfico as disposições dos dados"
   ]
  },
  {
   "cell_type": "markdown",
   "metadata": {
    "id": "ZzK7333SHVok"
   },
   "source": [
    "Para visualizar os dados no grafico, temos que transoformar os valores das variaveis para o formato de vetor. Para isso utilizamos o comando ravel()."
   ]
  },
  {
   "cell_type": "code",
   "execution_count": null,
   "metadata": {
    "colab": {
     "base_uri": "https://localhost:8080/"
    },
    "id": "uYay3V-jINDa",
    "outputId": "a848ec5d-4911-4030-809d-b26734c748b8"
   },
   "outputs": [],
   "source": [
    "# Verificando tipo da variavel x_custo_diaria\n",
    "x_custo_diaria"
   ]
  },
  {
   "cell_type": "code",
   "execution_count": null,
   "metadata": {
    "colab": {
     "base_uri": "https://localhost:8080/"
    },
    "id": "LefzMM_wIWHg",
    "outputId": "3b462dec-43b8-4089-874a-6110a0de232f"
   },
   "outputs": [],
   "source": [
    "x_custo_diaria.ravel() #transforma em um vetor"
   ]
  },
  {
   "cell_type": "code",
   "execution_count": null,
   "metadata": {
    "colab": {
     "base_uri": "https://localhost:8080/"
    },
    "id": "MOx5bSuTIc32",
    "outputId": "dd7a3b1d-43a0-4b00-c45d-3e058964dc33"
   },
   "outputs": [],
   "source": [
    "y_custo_diaria"
   ]
  },
  {
   "cell_type": "markdown",
   "metadata": {},
   "source": [
    "#### matplotlib.pyplot.scatter(x, y)\n",
    "x, y The data positions."
   ]
  },
  {
   "cell_type": "code",
   "execution_count": null,
   "metadata": {
    "colab": {
     "base_uri": "https://localhost:8080/",
     "height": 542
    },
    "id": "ELfaOZcKIefR",
    "outputId": "d957740e-2d72-4941-ad30-907c890e7df2"
   },
   "outputs": [],
   "source": [
    "grafico = px.scatter(x = x_custo_diaria.ravel(), y = y_custo_diaria)\n",
    "grafico.show()"
   ]
  },
  {
   "cell_type": "code",
   "execution_count": null,
   "metadata": {
    "colab": {
     "base_uri": "https://localhost:8080/",
     "height": 542
    },
    "id": "iMzLvjWuItBJ",
    "outputId": "2832a98a-fd6c-4c0e-c47f-5902250dbd1b"
   },
   "outputs": [],
   "source": [
    "grafico = px.scatter(x = x_custo_diaria.ravel(), y = y_custo_diaria)\n",
    "grafico.add_scatter(x = x_custo_diaria.ravel(), y = previsao_preco, name = 'previsões')\n",
    "grafico.show()"
   ]
  },
  {
   "cell_type": "code",
   "execution_count": null,
   "metadata": {
    "colab": {
     "base_uri": "https://localhost:8080/"
    },
    "id": "ivwPNTRhJWKS",
    "outputId": "836ea4d6-8441-48e2-8142-d030215cebd0"
   },
   "outputs": [],
   "source": [
    "# Verificando os valores de um determinada previsão baseada na quantidade de pessoas\n",
    "qtd_pessoas = 4\n",
    "previsao_custo_diaria.intercept_ + previsao_custo_diaria.coef_ * qtd_pessoas"
   ]
  },
  {
   "cell_type": "code",
   "execution_count": null,
   "metadata": {
    "colab": {
     "base_uri": "https://localhost:8080/"
    },
    "id": "lAG4LbXqJ4lG",
    "outputId": "5dfad7be-9a35-4f15-e4e6-392e9539712d"
   },
   "outputs": [],
   "source": [
    "# Verificando de modo direto\n",
    "previsao_custo_diaria.predict([[27]])"
   ]
  },
  {
   "cell_type": "code",
   "execution_count": null,
   "metadata": {
    "colab": {
     "base_uri": "https://localhost:8080/"
    },
    "id": "U3KRHvXQKHU_",
    "outputId": "ef2b6126-0095-4fca-c8cc-41455336601c"
   },
   "outputs": [],
   "source": [
    "# Indica a qualidade do algoritmo (quando mais próximo de 1, melhor qualidade do modelo)\n",
    "previsao_custo_diaria.score(x_custo_diaria, y_custo_diaria)"
   ]
  },
  {
   "cell_type": "code",
   "execution_count": null,
   "metadata": {
    "id": "OJq4bCVpKkLe"
   },
   "outputs": [],
   "source": [
    "# Visualizando os erros do modelo\n",
    "from sklearn.metrics import mean_squared_error, mean_absolute_error\n",
    "MSE = mean_squared_error(y_custo_diaria, previsao_preco)"
   ]
  },
  {
   "attachments": {
    "0_CAy9AiVtV2_nDTrh.gif": {
     "image/gif": "[encoded data removed]"
    }
   },
   "cell_type": "markdown",
   "metadata": {},
   "source": [
    "O MAE, ou Erro Absoluto Médio é a métrica mais simples de se entender. Essa métrica consiste em calcular o residual de cada ponto, onde valores residuais negativos e positivos não se anulam. Após esse agrupamento, calculamos então a média desses ‘residuais’. \n",
    "![0_CAy9AiVtV2_nDTrh.gif](attachment:0_CAy9AiVtV2_nDTrh.gif)\n",
    "\n",
    "Fonte: https://medium.com/@douglasheberteempty/ml-m%C3%A9tricas-de-regress%C3%A3o-20c1ed73c7e7"
   ]
  },
  {
   "cell_type": "code",
   "execution_count": null,
   "metadata": {
    "colab": {
     "base_uri": "https://localhost:8080/"
    },
    "id": "9f5zwvYQLB60",
    "outputId": "515aa040-7a78-43d8-b7d4-1645273a2af8"
   },
   "outputs": [],
   "source": [
    "# Calculando MAE\n",
    "mean_absolute_error(y_custo_diaria, previsao_preco)"
   ]
  },
  {
   "attachments": {
    "0_C4t6DnMzvTM5rKEx.png": {
     "image/png": "[encoded data removed]"
    }
   },
   "cell_type": "markdown",
   "metadata": {},
   "source": [
    "RMSE\n",
    "Uma das métricas mais comumente usadas(caraca, comumente usadas, pega essa), se não a mais utilizada, é a RMSE(Root Mean Squared Error). Também conhecida como RMSD (Root Mean Square Deviation), como o nome sugere(quase nem sugere né), é uma regra que baseia-se na “média das diferenças entre as predições e observações reais ao quadrado”.\n",
    "\n",
    "Formulinha do rolê:\n",
    "\n",
    "![0_C4t6DnMzvTM5rKEx.png](attachment:0_C4t6DnMzvTM5rKEx.png)\n",
    "\n",
    "Fonte: https://medium.com/@douglasheberteempty/ml-m%C3%A9tricas-de-regress%C3%A3o-20c1ed73c7e7\n"
   ]
  },
  {
   "cell_type": "code",
   "execution_count": null,
   "metadata": {
    "colab": {
     "base_uri": "https://localhost:8080/"
    },
    "id": "koR6rbE3LMdM",
    "outputId": "57ac3a6b-ba86-4d35-c503-839ee3661bf9"
   },
   "outputs": [],
   "source": [
    "# Calculando RMSE\n",
    "np.sqrt(MSE)"
   ]
  },
  {
   "cell_type": "markdown",
   "metadata": {},
   "source": [
    "original disponibilizado por Prof Leandro Lessa https://github.com/ProfLeandroLessa/FDA-material-video-aulas\n",
    "\n",
    "implementos Lidiane Aureliano https://github.com/laurelianox\n",
    "\n",
    "Bootcamp DiversiData Tech Pan"
   ]
  }
 ],
 "metadata": {
  "colab": {
   "name": "Regressão Linear.ipynb",
   "provenance": []
  },
  "kernelspec": {
   "display_name": "dados",
   "language": "python",
   "name": "dados"
  },
  "language_info": {
   "codemirror_mode": {
    "name": "ipython",
    "version": 3
   },
   "file_extension": ".py",
   "mimetype": "text/x-python",
   "name": "python",
   "nbconvert_exporter": "python",
   "pygments_lexer": "ipython3",
   "version": "3.9.13"
  }
 },
 "nbformat": 4,
 "nbformat_minor": 1
}
